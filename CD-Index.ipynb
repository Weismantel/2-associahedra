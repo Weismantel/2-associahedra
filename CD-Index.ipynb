{
 "cells": [
  {
   "cell_type": "code",
   "execution_count": 8,
   "metadata": {},
   "outputs": [],
   "source": [
    "#Calculation of cd index for the associahedra and 2-associahedra with SageMath code\n",
    "\n",
    "\n",
    "#1.Implementation of the flag f vector using memorization\n",
    "\n",
    "from functools import lru_cache\n",
    "\n",
    "@lru_cache(maxsize=None)\n",
    "\n",
    "\n",
    "\n",
    "def get_smaller_elements(start_elt, s = 1):\n",
    "    #Given an start element the function returns all the elements that are s smaller then the start element.\n",
    "    Nodes = [{} for i in range(s+1)]\n",
    "    Q = Queue()\n",
    "    Q.put(start_elt)\n",
    "    #stores for each level the smaller elements\n",
    "    Nodes[0][str(start_elt)] = start_elt\n",
    "    while not Q.empty():\n",
    "        curnode = Q.get()\n",
    "        diff = curnode.codim - start_elt.codim\n",
    "        if diff < s:\n",
    "            for child in curnode.children:\n",
    "                #check for every elements if it is yet in the Nodes list\n",
    "\n",
    "                if not str(child) in Nodes[diff + 1]:\n",
    "                    Nodes[diff + 1][str(child)] = child\n",
    "                    Q.put(child)\n",
    "\n",
    "    return Nodes[s]\n",
    "\n",
    "def elt_flag_f_vector( S, elt):\n",
    "    #given an element the function calculates all maximal chains startin with the original element\n",
    "    #If S has length <= 1 there is only one chain consisting of only the element\n",
    "    if len(S) <= 1:\n",
    "        return 1\n",
    "    diff = S[1] - S[0]\n",
    "    total_sum = 0\n",
    "    next_smaller = get_smaller_elements(elt, diff)\n",
    "    for small in next_smaller:\n",
    "        #recursively calculate the number of possibilities for chain starting with the smaller elements\n",
    "        res = elt_flag_f_vector(S[1:], next_smaller[small])\n",
    "        total_sum = total_sum + res\n",
    "\n",
    "    return total_sum\n",
    "\n",
    "def flag_f_vector(S, poset):\n",
    "    #Calculates the flag f vector for a given Associahedra. Here viewd as a function\n",
    "    #We reverse the order since the structure of the calculated poset only finds descending chains.\n",
    "    S = list(reversed([poset.dim - s + 1 for s in S]))\n",
    "    if not 0 in S:\n",
    "        S = [0] + S\n",
    "    return elt_flag_f_vector(S, poset.root)\n",
    "\n",
    "def flag_h_vector(S, poset):\n",
    "    #Calculates the flag h vector as defined\n",
    "    res = 0\n",
    "    subsets = [[subset for subset in Combinations(S, i)] for i in range(len(S))]\n",
    "    for i in range(len(S)):\n",
    "        for elt in subsets[i]:\n",
    "            res = res + (-1) ** (len(S)-i) * flag_f_vector(list(elt), poset)\n",
    "    return res\n",
    "\n",
    "\n"
   ]
  },
  {
   "cell_type": "code",
   "execution_count": 9,
   "metadata": {},
   "outputs": [],
   "source": [
    "def omega(j):\n",
    "    A.<c,d> = FreeAlgebra(QQ,2)\n",
    "    if j % 2 == 0:\n",
    "        return -1/2 *(c**2 - 2*d)**(int(j/2))\n",
    "    else:\n",
    "        return 1/2*c*(c**2 - 2*d)**(int((j-1)/2))\n",
    "\n",
    "def cd_index(poset):\n",
    "    #Implementation of the Stanleys formula for the CD-Index of Eulerian posets\n",
    "    res = 0\n",
    "    A.<c,d> = FreeAlgebra(QQ,2)\n",
    "    N = list(np.arange(1, len(poset.nodes)))\n",
    "    subsets = [[subset for subset in Combinations(N, i)] for i in range(len(N)+1)]\n",
    "    subsets[0] = [[]]\n",
    "    for i in range(1, len(N)+1):\n",
    "        for S in subsets[i]:\n",
    "            if S[0] % 2 == 1:\n",
    "                prod = (c**2-2*d)**(int(1/2 * (S[0] - 1)))\n",
    "                for i in range(1, len(S)):\n",
    "                    prod = prod * omega(S[i] - S[i-1])\n",
    "                prod = prod * omega(len(poset.nodes)-S[-1])\n",
    "                prod = prod * flag_f_vector(list(S), poset)\n",
    "                res = res + prod\n",
    "    if (len(N)+1) % 2 == 1:\n",
    "        res += (c**2-2*d)**(int(len(N)/2))\n",
    "    return res\n"
   ]
  },
  {
   "cell_type": "code",
   "execution_count": 10,
   "metadata": {
    "scrolled": true
   },
   "outputs": [
    {
     "name": "stdout",
     "output_type": "stream",
     "text": [
      "f_vector: [42, 84, 56, 14, 1], alternating sum: 1\n"
     ]
    }
   ],
   "source": [
    "from Wn import *\n",
    "from helper import *\n",
    "\n",
    "W = Wn([2,0,0,0,0])\n",
    "print(f'f_vector: {W.f_vector()}, alternating sum: {W.alternating()}')"
   ]
  },
  {
   "cell_type": "code",
   "execution_count": 11,
   "metadata": {},
   "outputs": [
    {
     "name": "stdout",
     "output_type": "stream",
     "text": [
      "CD-index of W_[2, 0, 0, 0, 0] = 60*d^2 + 12*c^2*d + 42*c*d*c + 40*d*c^2 + c^4\n"
     ]
    }
   ],
   "source": [
    "print(f'CD-index of W_{W.n} = {cd_index(W)}')"
   ]
  },
  {
   "cell_type": "code",
   "execution_count": 12,
   "metadata": {},
   "outputs": [],
   "source": [
    "from Kr import *"
   ]
  },
  {
   "cell_type": "code",
   "execution_count": 13,
   "metadata": {},
   "outputs": [
    {
     "name": "stdout",
     "output_type": "stream",
     "text": [
      "[429, 1287, 1485, 825, 225, 27, 1]\n",
      "CD-Index of K_8 = 3598*d^3 + 775*c^2*d^2 + 2145*c*d*c*d + 2574*c*d^2*c + 1666*d*c^2*d + 3465*d*c*d*c + 2611*d^2*c^2 + 25*c^4*d + 198*c^3*d*c + 625*c^2*d*c^2 + 858*c*d*c^3 + 427*d*c^4 + c^6\n"
     ]
    }
   ],
   "source": [
    "K = Kr(8)\n",
    "print(K.f_vector())\n",
    "print(f'CD-Index of K_{K.r} = {cd_index(K)}')"
   ]
  },
  {
   "cell_type": "code",
   "execution_count": null,
   "metadata": {},
   "outputs": [],
   "source": []
  }
 ],
 "metadata": {
  "kernelspec": {
   "display_name": "SageMath 9.3",
   "language": "sage",
   "name": "sagemath"
  },
  "language_info": {
   "codemirror_mode": {
    "name": "ipython",
    "version": 3
   },
   "file_extension": ".py",
   "mimetype": "text/x-python",
   "name": "python",
   "nbconvert_exporter": "python",
   "pygments_lexer": "ipython3",
   "version": "3.7.10"
  }
 },
 "nbformat": 4,
 "nbformat_minor": 4
}
